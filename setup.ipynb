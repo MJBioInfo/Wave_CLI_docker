{
 "cells": [
  {
   "cell_type": "markdown",
   "metadata": {},
   "source": [
    "# Docker image creation using Wave\n"
   ]
  },
  {
   "cell_type": "markdown",
   "metadata": {},
   "source": [
    "## Setup"
   ]
  },
  {
   "cell_type": "markdown",
   "metadata": {},
   "source": [
    "Prerequisites:\n",
    "\n",
    "For this guide, you must satisfy the following prerequisites:\n",
    "\n",
    "- You have an account with a container registry, such as DockerHub, and an access token that provides write access to your container repository.\n",
    "- You have a Seqera Cloud or Platform account, to store your container registry credentials for Wave to use.\n",
    "- You have either Docker Desktop or Podman installed locally.\n",
    "- You have Nextflow 23.10.x or newer installed locally.\n",
    "- You have the Wave CLI installed locally."
   ]
  },
  {
   "cell_type": "markdown",
   "metadata": {},
   "source": [
    "We have all these accounts associated to mjbioinfo@gmail.com\n",
    "Installed Docker , Nectflow , Wave "
   ]
  },
  {
   "cell_type": "markdown",
   "metadata": {},
   "source": [
    "In this guide, you'll build a container from a Conda package and freeze that package in your private container repository."
   ]
  },
  {
   "cell_type": "markdown",
   "metadata": {},
   "source": [
    "## 1. Setup tocken from Sequera cloud"
   ]
  },
  {
   "cell_type": "markdown",
   "metadata": {},
   "source": [
    "Log in to Seqera.\n",
    "\n",
    "From your personal workspace: Go to the Profile > USer tokens.\n",
    "\n",
    "Select Add token.\n",
    "\n",
    "Enter a unique name for your token, then select Add.\n",
    "\n",
    "Copy and store your token securely.\n",
    "\n",
    "The access token is displayed only once. Save the token value before closing the Personal Access Token window.\n",
    "\n",
    "In a terminal window, assign your access token to the TOWER_ACCESS_TOKEN environment variable:\n",
    "\n",
    "export TOWER_ACCESS_TOKEN=<token_token>\n",
    "\n"
   ]
  },
  {
   "cell_type": "markdown",
   "metadata": {},
   "source": [
    "## 2. Dockerhub credential add to seqera"
   ]
  },
  {
   "cell_type": "markdown",
   "metadata": {},
   "source": [
    "Dockerhub :\n",
    "\n",
    "\n",
    "When freezing a container to the build repository that you specify, Wave uses Seqera to obtain your registry access credentials. If you use Docker as your container registry, completing the following steps:\n",
    "\n",
    "To create your access token in Docker Hub:\n",
    "\n",
    "Log in to Docker Hub.\n",
    "Select your username in the top right corner and select Account Settings.\n",
    "Select Security > New Access Token.\n",
    "Enter a token description and select Read-only from the Access permissions (here select Read and write) drop-down menu, then select Generate.\n",
    "Copy and save the generated access token (this is only displayed once)."
   ]
  },
  {
   "cell_type": "markdown",
   "metadata": {},
   "source": [
    "On sequera ccount :\n",
    "\n",
    "\n",
    "To add your credentials to Seqera:\n",
    "\n",
    "Add your credentials to your organization or personal workspace:\n",
    "\n",
    "From an organization workspace: Go to Credentials > Add Credentials.\n",
    "From your personal workspace: From the user menu, go to Your credentials > Add credentials.\n",
    "Complete the following fields:\n",
    "\n",
    "Name: Specify a unique name for the credentials using alphanumeric characters, dashes, or underscores. For example, my-registry-creds.\n",
    "Provider: Select Container registry.\n",
    "User name: Specify your Docker username. For example, user1.\n",
    "Password: Specify your personal access token (PAT). For example, 1fcd02dc-...215bc3f3.\n",
    "Registry server: Specify the container registry hostname, excluding the protocol. For example, docker.io.\n",
    "After you've completed all the form fields, select Add. The new credential is now listed under the Credentials tab.\n",
    "\n",
    "Seqera supports other container registries, such as GitHub and Quay.io."
   ]
  },
  {
   "cell_type": "markdown",
   "metadata": {},
   "source": [
    "## 3. Wave cli build docker container :"
   ]
  },
  {
   "cell_type": "markdown",
   "metadata": {},
   "source": [
    "Wave lets you build a container from any conda package or set of conda packages that you specify. In this section, you'll use Wave to build a container that includes the faker conda package."
   ]
  },
  {
   "cell_type": "markdown",
   "metadata": {},
   "source": [
    "wave --conda-package 'faker' --freeze --build-repo <repo_uri> --await"
   ]
  },
  {
   "cell_type": "markdown",
   "metadata": {},
   "source": [
    "## 4. Run Wave for conda packages"
   ]
  },
  {
   "cell_type": "markdown",
   "metadata": {},
   "source": [
    "here we use conda packages environment yaml file sc.yml \n",
    "which contains Seurat and scCustomize packages"
   ]
  },
  {
   "cell_type": "markdown",
   "metadata": {},
   "source": [
    "Run below command in terminal"
   ]
  },
  {
   "cell_type": "code",
   "execution_count": null,
   "metadata": {},
   "outputs": [],
   "source": []
  },
  {
   "cell_type": "markdown",
   "metadata": {},
   "source": [
    "wave --conda-file=\"/Users/majeedjamakhani/MJ-IMM/Personal/Learn-update/Dockers/Wave_CLI_docker/sc.yml\"  --freeze --build-repo docker.io/majeedjamakhani/sc --await"
   ]
  }
 ],
 "metadata": {
  "kernelspec": {
   "display_name": "my_r_env",
   "language": "python",
   "name": "python3"
  },
  "language_info": {
   "name": "python",
   "version": "3.12.4"
  }
 },
 "nbformat": 4,
 "nbformat_minor": 2
}
